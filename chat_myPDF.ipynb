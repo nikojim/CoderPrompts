{
 "cells": [
  {
   "cell_type": "markdown",
   "metadata": {},
   "source": [
    "## Chat sobre documentos PDF : RAG con LangChain, Ollama, y FAISS Vector Store"
   ]
  },
  {
   "cell_type": "code",
   "execution_count": 1,
   "metadata": {},
   "outputs": [],
   "source": [
    "# pip install -U langchain-community faiss-cpu langchain-huggingface pymupdf tiktoken langchain-ollama python-dotenv"
   ]
  },
  {
   "cell_type": "code",
   "execution_count": 2,
   "metadata": {},
   "outputs": [
    {
     "data": {
      "text/plain": [
       "True"
      ]
     },
     "execution_count": 2,
     "metadata": {},
     "output_type": "execute_result"
    }
   ],
   "source": [
    "import os\n",
    "import warnings\n",
    "from dotenv import load_dotenv\n",
    "\n",
    "os.environ['KMP_DUPLICATE_LIB_OK'] = 'True'\n",
    "warnings.filterwarnings(\"ignore\")\n",
    "\n",
    "load_dotenv()"
   ]
  },
  {
   "cell_type": "markdown",
   "metadata": {},
   "source": [
    "### Document Loader"
   ]
  },
  {
   "cell_type": "code",
   "execution_count": 3,
   "metadata": {},
   "outputs": [],
   "source": [
    "from langchain_community.document_loaders import PyMuPDFLoader\n",
    "\n",
    "# loader = PyMuPDFLoader(\"./dgi-dataset/*.pdf\")\n",
    "# docs = loader.load()\n",
    "# load multiple pdfs\n",
    "# poner directorio donde se encuentran los pdfs\n",
    "pdf_directory = \".\\dgi-dataset\"\n",
    "documents = []\n",
    "\n",
    "for filename in os.listdir(pdf_directory):\n",
    "    if filename.endswith(\".pdf\"):\n",
    "        loader = PyMuPDFLoader(os.path.join(pdf_directory, filename))\n",
    "        documents.extend(loader.load())"
   ]
  },
  {
   "cell_type": "code",
   "execution_count": 4,
   "metadata": {},
   "outputs": [
    {
     "data": {
      "text/plain": [
       "Document(metadata={'source': '.\\\\dgi-dataset\\\\798+12+web+06+024 (2).pdf', 'file_path': '.\\\\dgi-dataset\\\\798+12+web+06+024 (2).pdf', 'page': 0, 'total_pages': 25, 'format': 'PDF 1.7', 'title': 'Microsoft Word - 27F1BEE0.doc', 'author': 'Ileana Olivera', 'subject': '', 'keywords': '', 'creator': '', 'producer': 'Microsoft: Print To PDF', 'creationDate': \"D:20240809093858-03'00'\", 'modDate': \"D:20240809095909-03'00'\", 'trapped': ''}, page_content=' \\nActualización Junio 2024 \\n \\nRESOLUCIÓN D.G.I. Nº 798/2012 \\n \\n \\nDOCUMENTACIÓN FISCAL ELECTRÓNICA –SE ESTABLECEN LAS CONDICIONES QUE REGULEN SU \\nRÉGIMEN. \\n \\n \\nMontevideo, 8 de mayo de 2012 \\n \\nVisto: la Ley Nº 18.600 de 21 de setiembre de 2009 y el Decreto Nº 36/012 de 8 de febrero de \\n2012. \\n \\nResultando: I) Que la citada norma legal reconoce la validez y la eficacia jurídica de los \\ndocumentos electrónicos y la firma electrónica; \\n \\nII) Que el mencionado decreto comete a la Dirección General Impositiva el dictado de normas \\ncomplementarias a efectos de la adecuada implementación del régimen de documentación \\nmediante comprobantes fiscales electrónicos. \\n \\nConsiderando: necesario establecer las condiciones que regulen el régimen de los referidos \\ndocumentos. \\n \\nAtento: a lo expuesto y a que se cuenta con la conformidad del Ministerio de Economía y \\nFinanzas;  \\n \\nEl Director General de Rentas \\n \\nRESUELVE: \\n \\n1º) \\nComprobantes incluidos.- El régimen previsto en el Decreto Nº 36/012 de 8 de febrero \\nde 2012, comprende los comprobantes fiscales electrónicos (CFE) que se definen a \\ncontinuación: \\n \\na) e-Factura: comprobante fiscal electrónico utilizado para documentar operaciones con \\ncontribuyentes. A esos efectos, se entenderá por tales aquellos identificados mediante \\nnúmero de RUC. \\n \\nNo obstante, en las operaciones propias de actividades económicas que deban \\npreceptivamente documentarse a consumo final de acuerdo a la normativa \\nvigente, se utilizarán e-Tickets. \\n \\nNOTA: \\nEl inciso segundo del literal a) fue sustituido por la Resolución DGI \\nNº 2075/2021 de 08.12.021, numeral 1º. Vigencia: 01.02.022, numeral 5º). (D. Of. \\n09.12.021 UM).  \\n \\nb) Nota de Crédito de e-Factura: comprobante fiscal electrónico utilizado para \\ndocumentar ajustes a la baja o anulaciones, en relación a operaciones previamente \\ndocumentadas en e-Facturas. \\n \\nc) Nota de Débito de e-Factura: comprobante fiscal electrónico utilizado para documentar \\najustes al alza en relación a operaciones previamente documentadas en e-Facturas. \\n \\nd) e-Ticket: comprobante fiscal electrónico utilizado para documentar operaciones con \\nconsumidores finales. \\n \\nA los solos efectos de la utilización de este comprobante, se consideran \\nincluidas en el concepto de consumidores finales, aquellas entidades no \\nresidentes que no cuenten con número de RUT. \\n \\nNOTA: Este segundo inciso fue agregado por la Resolución DGI Nº 2.886/2014 de \\n22.08.014, numeral 1º. \\n \\n')"
      ]
     },
     "execution_count": 4,
     "metadata": {},
     "output_type": "execute_result"
    }
   ],
   "source": [
    "documents[0]"
   ]
  },
  {
   "cell_type": "code",
   "execution_count": 5,
   "metadata": {},
   "outputs": [],
   "source": [
    "import os\n",
    "\n",
    "pdfs = []\n",
    "for root, dirs, files in os.walk('dgi-dataset'):\n",
    "    # print(root, dirs, files)\n",
    "    for file in files:\n",
    "        if file.endswith('.pdf'):\n",
    "            pdfs.append(os.path.join(root, file))"
   ]
  },
  {
   "cell_type": "code",
   "execution_count": 6,
   "metadata": {},
   "outputs": [],
   "source": [
    "docs = []\n",
    "for pdf in pdfs:\n",
    "    loader = PyMuPDFLoader(pdf)\n",
    "    pages = loader.load()\n",
    "\n",
    "    docs.extend(pages)"
   ]
  },
  {
   "cell_type": "code",
   "execution_count": 7,
   "metadata": {},
   "outputs": [
    {
     "data": {
      "text/plain": [
       "305"
      ]
     },
     "execution_count": 7,
     "metadata": {},
     "output_type": "execute_result"
    }
   ],
   "source": [
    "len(docs)"
   ]
  },
  {
   "cell_type": "markdown",
   "metadata": {},
   "source": [
    "### Document Chunking"
   ]
  },
  {
   "cell_type": "code",
   "execution_count": 8,
   "metadata": {},
   "outputs": [],
   "source": [
    "from langchain_text_splitters import RecursiveCharacterTextSplitter\n",
    "\n",
    "\n",
    "text_splitter = RecursiveCharacterTextSplitter(chunk_size=1000, chunk_overlap=100)\n",
    "\n",
    "chunks = text_splitter.split_documents(docs)"
   ]
  },
  {
   "cell_type": "code",
   "execution_count": 9,
   "metadata": {},
   "outputs": [
    {
     "data": {
      "text/plain": [
       "(305, 830)"
      ]
     },
     "execution_count": 9,
     "metadata": {},
     "output_type": "execute_result"
    }
   ],
   "source": [
    "len(docs), len(chunks)"
   ]
  },
  {
   "cell_type": "code",
   "execution_count": 10,
   "metadata": {},
   "outputs": [
    {
     "data": {
      "text/plain": [
       "(2451, 922)"
      ]
     },
     "execution_count": 10,
     "metadata": {},
     "output_type": "execute_result"
    }
   ],
   "source": [
    "len(docs[0].page_content), len(chunks[0].page_content)"
   ]
  },
  {
   "cell_type": "code",
   "execution_count": 13,
   "metadata": {},
   "outputs": [
    {
     "data": {
      "text/plain": [
       "(632, 245)"
      ]
     },
     "execution_count": 13,
     "metadata": {},
     "output_type": "execute_result"
    }
   ],
   "source": [
    "import tiktoken\n",
    "\n",
    "encoding = tiktoken.encoding_for_model(\"gpt-4o-mini\")\n",
    "\n",
    "len(encoding.encode(docs[0].page_content)), len(encoding.encode(chunks[0].page_content))"
   ]
  },
  {
   "cell_type": "markdown",
   "metadata": {},
   "source": [
    "### Document Vector Embedding"
   ]
  },
  {
   "cell_type": "code",
   "execution_count": 14,
   "metadata": {},
   "outputs": [],
   "source": [
    "from langchain_ollama import OllamaEmbeddings\n",
    "\n",
    "import faiss\n",
    "from langchain_community.vectorstores import FAISS\n",
    "from langchain_community.docstore.in_memory import InMemoryDocstore"
   ]
  },
  {
   "cell_type": "code",
   "execution_count": 15,
   "metadata": {},
   "outputs": [],
   "source": [
    "embeddings = OllamaEmbeddings(model='nomic-embed-text', base_url=\"http://localhost:11434\")\n",
    "\n",
    "single_vector = embeddings.embed_query(\"this is some text data\")\n"
   ]
  },
  {
   "cell_type": "code",
   "execution_count": 16,
   "metadata": {},
   "outputs": [
    {
     "data": {
      "text/plain": [
       "768"
      ]
     },
     "execution_count": 16,
     "metadata": {},
     "output_type": "execute_result"
    }
   ],
   "source": [
    "len(single_vector)"
   ]
  },
  {
   "cell_type": "code",
   "execution_count": 17,
   "metadata": {},
   "outputs": [
    {
     "data": {
      "text/plain": [
       "(0, 768)"
      ]
     },
     "execution_count": 17,
     "metadata": {},
     "output_type": "execute_result"
    }
   ],
   "source": [
    "index = faiss.IndexFlatL2(len(single_vector))\n",
    "index.ntotal, index.d"
   ]
  },
  {
   "cell_type": "code",
   "execution_count": 18,
   "metadata": {},
   "outputs": [],
   "source": [
    "vector_store = FAISS(\n",
    "    embedding_function=embeddings,\n",
    "    index=index,\n",
    "    docstore=InMemoryDocstore(),\n",
    "    index_to_docstore_id={}\n",
    ")"
   ]
  },
  {
   "cell_type": "code",
   "execution_count": 19,
   "metadata": {},
   "outputs": [
    {
     "data": {
      "text/plain": [
       "830"
      ]
     },
     "execution_count": 19,
     "metadata": {},
     "output_type": "execute_result"
    }
   ],
   "source": [
    "len(chunks)"
   ]
  },
  {
   "cell_type": "code",
   "execution_count": 20,
   "metadata": {},
   "outputs": [],
   "source": [
    "ids = vector_store.add_documents(documents=chunks)"
   ]
  },
  {
   "cell_type": "code",
   "execution_count": 21,
   "metadata": {},
   "outputs": [
    {
     "data": {
      "text/plain": [
       "830"
      ]
     },
     "execution_count": 21,
     "metadata": {},
     "output_type": "execute_result"
    }
   ],
   "source": [
    "vector_store.index_to_docstore_id\n",
    "len(ids)"
   ]
  },
  {
   "cell_type": "code",
   "execution_count": 22,
   "metadata": {},
   "outputs": [
    {
     "data": {
      "text/plain": [
       "830"
      ]
     },
     "execution_count": 22,
     "metadata": {},
     "output_type": "execute_result"
    }
   ],
   "source": [
    "# # store vector database\n",
    "db_name = \"db_name\"\n",
    "vector_store.save_local(db_name)\n",
    "\n",
    "# # # load vector database\n",
    "new_vector_store = FAISS.load_local(db_name, embeddings=embeddings, allow_dangerous_deserialization=True)\n",
    "len(new_vector_store.index_to_docstore_id)"
   ]
  },
  {
   "cell_type": "markdown",
   "metadata": {},
   "source": [
    "### Retreival"
   ]
  },
  {
   "cell_type": "code",
   "execution_count": 24,
   "metadata": {},
   "outputs": [
    {
     "name": "stdout",
     "output_type": "stream",
     "text": [
      "son: \n",
      " e-Factura. \n",
      " \n",
      " Nota de crédito de e- Factura. \n",
      " \n",
      "Para operaciones entre contribuyentes. \n",
      " Nota de débito de e- Factura. \n",
      " \n",
      " \n",
      "(B2B) \n",
      " \n",
      " e-Ticket. \n",
      " Nota de crédito de e-Ticket. \n",
      " \n",
      "Sólo para Consumo Final. \n",
      " Nota de débito de e-Ticket.  \n",
      " \n",
      " \n",
      "(B2C) \n",
      " \n",
      " e- Factura de Exportación \n",
      " Nota de crédito de e- Factura de Exportación     Sólo para exportaciones. \n",
      " Nota de débito de e-Factura de Exportación\n",
      "\n",
      "\n",
      "\n",
      "252 \n",
      "Nota de Crédito de e-Boleta de entrada \n",
      "153 \n",
      "Nota de Débito de e-Boleta de entrada \n",
      "253 \n",
      "Nota de Débito de e-Boleta de entrada \n",
      "181 \n",
      "e-Remito \n",
      "281 \n",
      "e-Remito Contingencia \n",
      "182 \n",
      "e-Resguardo \n",
      "282 \n",
      "e-Resguardo Contingencia\n",
      "\n",
      "\n",
      "\n",
      "252 \n",
      "Nota de Crédito de e-Boleta de entrada \n",
      "153 \n",
      "Nota de Débito de e-Boleta de entrada \n",
      "253 \n",
      "Nota de Débito de e-Boleta de entrada \n",
      "181 \n",
      "e-Remito \n",
      "281 \n",
      "e-Remito Contingencia \n",
      "182 \n",
      "e-Resguardo \n",
      "282 \n",
      "e-Resguardo Contingencia\n",
      "\n",
      "\n",
      "\n",
      "Cuenta Ajena, e-Boleta de entrada, Nota de Crédito de e-Boleta de entrada y Nota de \n",
      "Débito de e-Boleta de entrada>  \n",
      " \n",
      "de contingencia. No se podrán hacer trabajos de CFC distintos de los \n",
      "especificados.” \n",
      " \n",
      " Comprobantes no certificados (Constancia G):\n",
      "\n",
      "\n",
      "\n"
     ]
    }
   ],
   "source": [
    "question = \"¿Cuándo debo hacer una nota de crédito?\"\n",
    "docs = vector_store.search(query=question, search_type='similarity')\n",
    "\n",
    "for doc in docs:\n",
    "    print(doc.page_content)\n",
    "    print(\"\\n\\n\")"
   ]
  },
  {
   "cell_type": "code",
   "execution_count": 25,
   "metadata": {},
   "outputs": [],
   "source": [
    "retriever = vector_store.as_retriever(search_type=\"mmr\", search_kwargs = {'k': 3, \n",
    "                                                                          'fetch_k': 100,\n",
    "                                                                          'lambda_mult': 1})"
   ]
  },
  {
   "cell_type": "code",
   "execution_count": 26,
   "metadata": {},
   "outputs": [
    {
     "name": "stdout",
     "output_type": "stream",
     "text": [
      "son: \n",
      " e-Factura. \n",
      " \n",
      " Nota de crédito de e- Factura. \n",
      " \n",
      "Para operaciones entre contribuyentes. \n",
      " Nota de débito de e- Factura. \n",
      " \n",
      " \n",
      "(B2B) \n",
      " \n",
      " e-Ticket. \n",
      " Nota de crédito de e-Ticket. \n",
      " \n",
      "Sólo para Consumo Final. \n",
      " Nota de débito de e-Ticket.  \n",
      " \n",
      " \n",
      "(B2C) \n",
      " \n",
      " e- Factura de Exportación \n",
      " Nota de crédito de e- Factura de Exportación     Sólo para exportaciones. \n",
      " Nota de débito de e-Factura de Exportación\n",
      "\n",
      "\n",
      "\n",
      "252 \n",
      "Nota de Crédito de e-Boleta de entrada \n",
      "153 \n",
      "Nota de Débito de e-Boleta de entrada \n",
      "253 \n",
      "Nota de Débito de e-Boleta de entrada \n",
      "181 \n",
      "e-Remito \n",
      "281 \n",
      "e-Remito Contingencia \n",
      "182 \n",
      "e-Resguardo \n",
      "282 \n",
      "e-Resguardo Contingencia\n",
      "\n",
      "\n",
      "\n",
      "252 \n",
      "Nota de Crédito de e-Boleta de entrada \n",
      "153 \n",
      "Nota de Débito de e-Boleta de entrada \n",
      "253 \n",
      "Nota de Débito de e-Boleta de entrada \n",
      "181 \n",
      "e-Remito \n",
      "281 \n",
      "e-Remito Contingencia \n",
      "182 \n",
      "e-Resguardo \n",
      "282 \n",
      "e-Resguardo Contingencia\n",
      "\n",
      "\n",
      "\n"
     ]
    }
   ],
   "source": [
    "docs = retriever.invoke(question)\n",
    "\n",
    "for doc in docs:\n",
    "     print(doc.page_content)\n",
    "     print(\"\\n\\n\")\n"
   ]
  },
  {
   "cell_type": "code",
   "execution_count": 27,
   "metadata": {},
   "outputs": [],
   "source": [
    "\n",
    "\n",
    "question = \"¿Cuándo debo hacer una nota de crédito?\"\n",
    "docs = retriever.invoke(question)\n"
   ]
  },
  {
   "cell_type": "markdown",
   "metadata": {},
   "source": [
    "### RAG con LLAMA 3.2 sobre OLLAMA"
   ]
  },
  {
   "cell_type": "code",
   "execution_count": 28,
   "metadata": {},
   "outputs": [],
   "source": [
    "from langchain import hub\n",
    "from langchain_core.output_parsers import StrOutputParser\n",
    "from langchain_core.runnables import RunnablePassthrough\n",
    "from langchain_core.prompts import ChatPromptTemplate\n",
    "\n",
    "from langchain_ollama import ChatOllama\n",
    "\n",
    "from langchain_openai import ChatOpenAI"
   ]
  },
  {
   "cell_type": "code",
   "execution_count": 31,
   "metadata": {},
   "outputs": [
    {
     "data": {
      "text/plain": [
       "AIMessage(content='How can I help you today?', additional_kwargs={}, response_metadata={'model': 'llama3.2:1b', 'created_at': '2025-02-27T21:06:37.144101Z', 'message': {'role': 'assistant', 'content': ''}, 'done_reason': 'stop', 'done': True, 'total_duration': 3459603500, 'load_duration': 2440131300, 'prompt_eval_count': 26, 'prompt_eval_duration': 510000000, 'eval_count': 8, 'eval_duration': 501000000}, id='run-da7a2edf-d5c5-4bb3-b01c-5539a7a4db20-0', usage_metadata={'input_tokens': 26, 'output_tokens': 8, 'total_tokens': 34})"
      ]
     },
     "execution_count": 31,
     "metadata": {},
     "output_type": "execute_result"
    }
   ],
   "source": [
    "model = ChatOllama(model=\"llama3.2:1b\", base_url=\"http://localhost:11434\")\n",
    "\n",
    "#model = ChatOpenAI(model=\"gpt-4o\")\n",
    "\n",
    "model.invoke(\"hi\")"
   ]
  },
  {
   "cell_type": "code",
   "execution_count": 32,
   "metadata": {},
   "outputs": [],
   "source": [
    "prompt = hub.pull(\"rlm/rag-prompt\")"
   ]
  },
  {
   "cell_type": "code",
   "execution_count": 33,
   "metadata": {},
   "outputs": [],
   "source": [
    "prompt = \"\"\"\n",
    "    You are an assistant for question-answering tasks. Use the following pieces of retrieved context to answer the question.\n",
    "    If you don't know the answer, just say that you don't know. \n",
    "    Answer in bullet points. Make sure your answer is relevant to the question and it is answered from the context only.\n",
    "    Question: {question} \n",
    "    Context: {context} \n",
    "    Answer:\n",
    "\"\"\"\n",
    "\n",
    "prompt = ChatPromptTemplate.from_template(prompt)"
   ]
  },
  {
   "cell_type": "code",
   "execution_count": 34,
   "metadata": {},
   "outputs": [],
   "source": [
    "def format_docs(docs):\n",
    "    return \"\\n\\n\".join([doc.page_content for doc in docs])\n",
    "\n",
    "# print(format_docs(docs))"
   ]
  },
  {
   "cell_type": "code",
   "execution_count": 35,
   "metadata": {},
   "outputs": [],
   "source": [
    "rag_chain = (\n",
    "    {\"context\": retriever|format_docs, \"question\": RunnablePassthrough()}\n",
    "    | prompt\n",
    "    | model\n",
    "    | StrOutputParser()\n",
    ")"
   ]
  },
  {
   "cell_type": "code",
   "execution_count": 36,
   "metadata": {},
   "outputs": [
    {
     "name": "stdout",
     "output_type": "stream",
     "text": [
      "En resumen, la nota de crédito se utiliza para operaciones entre contribuyentes y es solo para consumo final. La notación correcta para obtener una nota de crédito sería:\n",
      "\n",
      "* Nota de débito de e- Factura (B2C)\n",
      "* Nota de crédito de e-Factura (B2B)\n"
     ]
    }
   ],
   "source": [
    "question = \"¿Cuándo debo hacer una nota de crédito?\"\n",
    "output = rag_chain.invoke(question)\n",
    "print(output)\n"
   ]
  },
  {
   "cell_type": "code",
   "execution_count": 37,
   "metadata": {},
   "outputs": [
    {
     "name": "stdout",
     "output_type": "stream",
     "text": [
      "* El Reporte Diario Consolidado (RDC) es un archivo electrónico que contiene información sobre comprobantes fiscales electrónicos emitidos por cada tipo de CFE/CFC.\n",
      " + La información incluye datos de la numeración utilizada, fecha y sucursal.\n"
     ]
    }
   ],
   "source": [
    "question = \"¿Qué es un RDC?\"\n",
    "output = rag_chain.invoke(question)\n",
    "print(output)"
   ]
  },
  {
   "cell_type": "code",
   "execution_count": 38,
   "metadata": {},
   "outputs": [
    {
     "name": "stdout",
     "output_type": "stream",
     "text": [
      "Aquí te presento la información relevante sobre \"CFE\" que puedo proporcionar:\n",
      "\n",
      "* Un CFE (Comprobante Fiscal de Contingencia) es un tipo de comprobante papel emitido por las autoridades competentes en situaciones de contingencia.\n",
      "* Está definido por el DGI (Dirección General de Aduanas y Tributación) y asignado un código para cada tipo de CFE, que deberán ser de uso obligatorio para todos los contribuyentes.\n",
      "* Los comprobantes papel utilizados en situaciones de contingencia deben estar acompañados de correcciones y/o ajustes al documento original, así como notas de crédito y débito.\n",
      "* El conjunto mínimo obligatorio de comprobantes fiscales electrónicos con los que se puede ingresar en el sistema está compuesto por e-Factura y e-Ticket, junto con sus correspondientes notas de crédito y débito para las correcciones y/o ajustes al documento original.\n"
     ]
    }
   ],
   "source": [
    "question = \"¿Qué es un CFE?\"\n",
    "output = rag_chain.invoke(question)\n",
    "print(output)"
   ]
  },
  {
   "cell_type": "markdown",
   "metadata": {},
   "source": [
    "### Cambiamos el modelo a OpenAI y realizamos las mismas consultas"
   ]
  },
  {
   "cell_type": "code",
   "execution_count": 40,
   "metadata": {},
   "outputs": [],
   "source": [
    "model = ChatOpenAI(model=\"gpt-4o\")"
   ]
  },
  {
   "cell_type": "code",
   "execution_count": 42,
   "metadata": {},
   "outputs": [],
   "source": [
    "rag_chain = (\n",
    "    {\"context\": retriever|format_docs, \"question\": RunnablePassthrough()}\n",
    "    | prompt\n",
    "    | model\n",
    "    | StrOutputParser()\n",
    ")"
   ]
  },
  {
   "cell_type": "code",
   "execution_count": 43,
   "metadata": {},
   "outputs": [
    {
     "name": "stdout",
     "output_type": "stream",
     "text": [
      "- Debes hacer una nota de crédito de e-Factura para operaciones entre contribuyentes.\n",
      "- Debes hacer una nota de crédito de e-Ticket sólo para consumo final.\n",
      "- Debes hacer una nota de crédito de e-Factura de Exportación sólo para exportaciones.\n"
     ]
    }
   ],
   "source": [
    "question = \"¿Cuándo debo hacer una nota de crédito?\"\n",
    "output = rag_chain.invoke(question)\n",
    "print(output)"
   ]
  },
  {
   "cell_type": "code",
   "execution_count": 44,
   "metadata": {},
   "outputs": [
    {
     "name": "stdout",
     "output_type": "stream",
     "text": [
      "- Un RDC es un \"Reporte Diario Consolidado\".\n",
      "- Contiene información consolidada de todos los comprobantes fiscales electrónicos y documentos de contingencia emitidos durante un día.\n",
      "- El informe se genera por cada tipo de comprobante fiscal certificado, fecha de comprobante y sucursal.\n",
      "- La búsqueda y consulta de RDC permite acceder a los reportes generados para las empresas en la plataforma.\n",
      "- Los estados del RDC pueden ser: \"Aceptado\" (confirmado por DGI), \"Almacenado\" (generado pero no enviado a DGI), y \"Rechazado\" (enviado y rechazado por DGI).\n"
     ]
    }
   ],
   "source": [
    "question = \"¿Qué es un RDC?\"\n",
    "output = rag_chain.invoke(question)\n",
    "print(output)"
   ]
  },
  {
   "cell_type": "code",
   "execution_count": 45,
   "metadata": {},
   "outputs": [
    {
     "name": "stdout",
     "output_type": "stream",
     "text": [
      "- Un CFE es un Comprobante Fiscal Electrónico.\n",
      "- Son documentos fiscales electrónicos utilizados para registrar transacciones de manera digital.\n",
      "- La Dirección General Impositiva (DGI) asigna códigos a cada tipo de CFE para su identificación.\n",
      "- Los CFE pueden incluir e-Factura, e-Ticket, y sus correspondientes notas de crédito y débito.\n",
      "- En situaciones donde no se pueden emitir CFE, se utilizan Comprobantes Fiscales de Contingencia (CFC).\n",
      "- Los estados de un CFE pueden variar desde \"CFE Almacenado\" hasta \"CFE Confirmado\" o \"CFE Rechazado\".\n"
     ]
    }
   ],
   "source": [
    "question = \"¿Qué es un CFE?\"\n",
    "output = rag_chain.invoke(question)\n",
    "print(output)"
   ]
  },
  {
   "cell_type": "markdown",
   "metadata": {},
   "source": [
    "### Se comprueba que los tiempos y la calidad de respuestas son mucho mejores con OPENAI que corriendo llama3.2:1b en la máquina local."
   ]
  },
  {
   "cell_type": "markdown",
   "metadata": {},
   "source": [
    "### Gradio Interface"
   ]
  },
  {
   "cell_type": "code",
   "execution_count": 46,
   "metadata": {},
   "outputs": [],
   "source": [
    "import gradio as gr "
   ]
  },
  {
   "cell_type": "code",
   "execution_count": 47,
   "metadata": {},
   "outputs": [],
   "source": [
    "def chatbot(question):\n",
    "    \t\t\t\t\t\t\t\t\t\t\t\t\t\t\t  \n",
    "    docs = retriever.invoke(question)\n",
    "\n",
    "    rag_chain = (\n",
    "    {\"context\": retriever|format_docs, \"question\": RunnablePassthrough()}\n",
    "    | prompt\n",
    "    | model\n",
    "    | StrOutputParser())\n",
    "\n",
    "    output = rag_chain.invoke(question)\n",
    "\n",
    "    return output\n",
    "\n",
    "    # streams option\n",
    "    # result = \"\"\n",
    "    # for chunk in stream:\n",
    "    #     result += chunk.choices[0].delta.content or \"\"\n",
    "    #     yield result\n"
   ]
  },
  {
   "cell_type": "code",
   "execution_count": 48,
   "metadata": {},
   "outputs": [
    {
     "name": "stdout",
     "output_type": "stream",
     "text": [
      "* Running on local URL:  http://127.0.0.1:7860\n",
      "* Running on public URL: https://859842b6cf75693387.gradio.live\n",
      "\n",
      "This share link expires in 72 hours. For free permanent hosting and GPU upgrades, run `gradio deploy` from the terminal in the working directory to deploy to Hugging Face Spaces (https://huggingface.co/spaces)\n"
     ]
    },
    {
     "data": {
      "text/html": [
       "<div><iframe src=\"https://859842b6cf75693387.gradio.live\" width=\"100%\" height=\"500\" allow=\"autoplay; camera; microphone; clipboard-read; clipboard-write;\" frameborder=\"0\" allowfullscreen></iframe></div>"
      ],
      "text/plain": [
       "<IPython.core.display.HTML object>"
      ]
     },
     "metadata": {},
     "output_type": "display_data"
    },
    {
     "data": {
      "text/plain": []
     },
     "execution_count": 48,
     "metadata": {},
     "output_type": "execute_result"
    }
   ],
   "source": [
    "view = gr.Interface(\n",
    "    fn=chatbot,\n",
    "    inputs=[gr.Textbox(label=\"Your message:\", lines=6)],\n",
    "    outputs=[gr.Textbox(label=\"Response:\", lines=20)],\n",
    "    flagging_mode=\"never\"\n",
    ")\n",
    "\n",
    "gr.themes.Ocean() \n",
    "\n",
    "view.launch(share=True)"
   ]
  },
  {
   "cell_type": "code",
   "execution_count": null,
   "metadata": {},
   "outputs": [],
   "source": []
  }
 ],
 "metadata": {
  "kernelspec": {
   "display_name": "ml-env",
   "language": "python",
   "name": "python3"
  },
  "language_info": {
   "codemirror_mode": {
    "name": "ipython",
    "version": 3
   },
   "file_extension": ".py",
   "mimetype": "text/x-python",
   "name": "python",
   "nbconvert_exporter": "python",
   "pygments_lexer": "ipython3",
   "version": "3.13.0"
  }
 },
 "nbformat": 4,
 "nbformat_minor": 2
}
